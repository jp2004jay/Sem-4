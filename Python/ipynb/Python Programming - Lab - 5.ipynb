{
 "cells": [
  {
   "cell_type": "markdown",
   "metadata": {},
   "source": [
    "\n",
    "<a href='https://www.darshan.ac.in/'> <img src='https://www.darshan.ac.in/Content/media/DU_Logo.svg' width=\"250\" height=\"300\"/></a>\n",
    "<pre>\n",
    "<center><b><h1>Python Programming - 2101CS405</b></center>\n",
    "<center><b><h1>Lab - 5</b></center>    \n",
    "<pre>"
   ]
  },
  {
   "cell_type": "markdown",
   "metadata": {},
   "source": [
    "# Jay Ramani"
   ]
  },
  {
   "cell_type": "markdown",
   "metadata": {},
   "source": [
    "### Enrollment: 22010101478\r\n",
    "### Division: CSE-4A\r\n",
    "### Batch: 5\r\n",
    "### Roll No.: 205"
   ]
  },
  {
   "cell_type": "markdown",
   "metadata": {},
   "source": [
    "# list"
   ]
  },
  {
   "cell_type": "markdown",
   "metadata": {},
   "source": [
    "### 01) WAP to find sum of all the elements in List."
   ]
  },
  {
   "cell_type": "code",
   "execution_count": 4,
   "metadata": {},
   "outputs": [
    {
     "name": "stdout",
     "output_type": "stream",
     "text": [
      "Sum of elements in the list: 15\n"
     ]
    }
   ],
   "source": [
    "my_list = [1, 2, 3, 4, 5]\n",
    "sum_elements = 0\n",
    "\n",
    "for element in my_list:\n",
    "    sum_elements += element\n",
    "\n",
    "print(\"Sum of elements in the list:\", sum_elements)"
   ]
  },
  {
   "cell_type": "markdown",
   "metadata": {},
   "source": [
    "### 02) WAP to find largest element in a List."
   ]
  },
  {
   "cell_type": "code",
   "execution_count": 5,
   "metadata": {},
   "outputs": [
    {
     "name": "stdout",
     "output_type": "stream",
     "text": [
      "Largest element in the list: 20\n"
     ]
    }
   ],
   "source": [
    "my_list = [10, 5, 8, 20, 3]\n",
    "max_element = my_list[0]\n",
    "\n",
    "for element in my_list:\n",
    "    if element > max_element:\n",
    "        max_element = element\n",
    "\n",
    "print(\"Largest element in the list:\", max_element)"
   ]
  },
  {
   "cell_type": "markdown",
   "metadata": {},
   "source": [
    "### 03) WAP to split the List into two and append the first part to the end."
   ]
  },
  {
   "cell_type": "code",
   "execution_count": 7,
   "metadata": {},
   "outputs": [
    {
     "name": "stdout",
     "output_type": "stream",
     "text": [
      "List after splitting and appending: [3, 4, 5, 1, 2]\n"
     ]
    }
   ],
   "source": [
    "my_list = [1, 2, 3, 4, 5]\n",
    "split_index = len(my_list) // 2\n",
    "\n",
    "first_part = my_list[:split_index]\n",
    "second_part = my_list[split_index:]\n",
    "\n",
    "my_list = second_part + first_part\n",
    "print(\"List after splitting and appending:\", my_list)"
   ]
  },
  {
   "cell_type": "markdown",
   "metadata": {},
   "source": [
    "### 04) WAP to interchange first and last elements in list entered by a user."
   ]
  },
  {
   "cell_type": "code",
   "execution_count": 8,
   "metadata": {},
   "outputs": [
    {
     "name": "stdin",
     "output_type": "stream",
     "text": [
      "Enter elements separated by space:  12 18 16 12 58 23 15\n"
     ]
    },
    {
     "name": "stdout",
     "output_type": "stream",
     "text": [
      "List after interchanging first and last elements: [15, 18, 16, 12, 58, 23, 12]\n"
     ]
    }
   ],
   "source": [
    "my_list = list(map(int, input(\"Enter elements separated by space: \").split()))\n",
    "\n",
    "if len(my_list) >= 2:\n",
    "    my_list[0], my_list[-1] = my_list[-1], my_list[0]\n",
    "\n",
    "print(\"List after interchanging first and last elements:\", my_list)"
   ]
  },
  {
   "cell_type": "markdown",
   "metadata": {},
   "source": [
    "### 05) WAP to interchange the elements on two positions entered by a user."
   ]
  },
  {
   "cell_type": "code",
   "execution_count": 11,
   "metadata": {},
   "outputs": [
    {
     "name": "stdin",
     "output_type": "stream",
     "text": [
      "Enter elements separated by space:  15 12 14 16 12\n",
      "Enter the first position:  2\n",
      "Enter the second position:  4\n"
     ]
    },
    {
     "name": "stdout",
     "output_type": "stream",
     "text": [
      "List after interchanging elements at positions 2 and 4: [15, 12, 12, 16, 14]\n"
     ]
    }
   ],
   "source": [
    "my_list = list(map(int, input(\"Enter elements separated by space: \").split()))\n",
    "\n",
    "position1 = int(input(\"Enter the first position: \"))\n",
    "position2 = int(input(\"Enter the second position: \"))\n",
    "\n",
    "if 0 <= position1 < len(my_list) and 0 <= position2 < len(my_list):\n",
    "    my_list[position1], my_list[position2] = my_list[position2], my_list[position1]\n",
    "\n",
    "print(\"List after interchanging elements at positions {} and {}:\".format(position1, position2), my_list)"
   ]
  },
  {
   "cell_type": "markdown",
   "metadata": {},
   "source": [
    "### 06) WAP to reverses the list entered by user."
   ]
  },
  {
   "cell_type": "code",
   "execution_count": 10,
   "metadata": {},
   "outputs": [
    {
     "name": "stdin",
     "output_type": "stream",
     "text": [
      "Enter elements separated by space:  12 15 16 17 18\n"
     ]
    },
    {
     "name": "stdout",
     "output_type": "stream",
     "text": [
      "Reversed list: [18, 17, 16, 15, 12]\n"
     ]
    }
   ],
   "source": [
    "my_list = list(map(int, input(\"Enter elements separated by space: \").split()))\n",
    "my_list.reverse()\n",
    "print(\"Reversed list:\", my_list)"
   ]
  },
  {
   "cell_type": "markdown",
   "metadata": {},
   "source": [
    "### 07) Python program to remove multiple elements from a list using list comprehension"
   ]
  },
  {
   "cell_type": "code",
   "execution_count": 19,
   "metadata": {},
   "outputs": [
    {
     "name": "stdout",
     "output_type": "stream",
     "text": [
      "List after removing specified elements: [1, 3, 5, 7, 8, 9]\n"
     ]
    }
   ],
   "source": [
    "my_list = [1, 2, 3, 4, 5, 6, 7, 8, 9]\n",
    "elements_to_remove = [2, 4, 6]\n",
    "\n",
    "my_list = [element for element in my_list if element not in elements_to_remove]\n",
    "print(\"List after removing specified elements:\", my_list)"
   ]
  },
  {
   "cell_type": "markdown",
   "metadata": {},
   "source": [
    "### 08) Create a list from the specified start to end index of another list."
   ]
  },
  {
   "cell_type": "code",
   "execution_count": 21,
   "metadata": {},
   "outputs": [
    {
     "name": "stdout",
     "output_type": "stream",
     "text": [
      "New list from index 2 to 5: [30, 40, 50, 60]\n"
     ]
    }
   ],
   "source": [
    "original_list = [10, 20, 30, 40, 50, 60, 70, 80]\n",
    "start_index = 2\n",
    "end_index = 5\n",
    "new_list = original_list[start_index:end_index+1]\n",
    "print(\"New list from index {} to {}:\".format(start_index, end_index), new_list)"
   ]
  },
  {
   "cell_type": "markdown",
   "metadata": {},
   "source": [
    "### 09) Input comma separated elements, convert into list and print."
   ]
  },
  {
   "cell_type": "code",
   "execution_count": 22,
   "metadata": {},
   "outputs": [
    {
     "name": "stdin",
     "output_type": "stream",
     "text": [
      "Enter comma-separated elements:  12,45,18,13,1,5,6,4,8,9\n"
     ]
    },
    {
     "name": "stdout",
     "output_type": "stream",
     "text": [
      "List after conversion: [12, 45, 18, 13, 1, 5, 6, 4, 8, 9]\n"
     ]
    }
   ],
   "source": [
    "input_str = input(\"Enter comma-separated elements: \")\n",
    "\n",
    "my_list = [int(element.strip()) for element in input_str.split(',')]\n",
    "\n",
    "print(\"List after conversion:\", my_list)"
   ]
  },
  {
   "cell_type": "markdown",
   "metadata": {},
   "source": [
    "### 01) WAP to count Even and Odd numbers in a List."
   ]
  },
  {
   "cell_type": "code",
   "execution_count": 24,
   "metadata": {},
   "outputs": [
    {
     "name": "stdout",
     "output_type": "stream",
     "text": [
      "Count of even numbers: 4\n",
      "Count of odd numbers: 5\n"
     ]
    }
   ],
   "source": [
    "my_list = [1, 2, 3, 4, 5, 6, 7, 8, 9]\n",
    "count_even = 0\n",
    "count_odd = 0\n",
    "\n",
    "for element in my_list:\n",
    "    if element % 2 == 0:\n",
    "        count_even += 1\n",
    "    else:\n",
    "        count_odd += 1\n",
    "\n",
    "print(\"Count of even numbers:\", count_even)\n",
    "print(\"Count of odd numbers:\", count_odd)"
   ]
  },
  {
   "cell_type": "markdown",
   "metadata": {},
   "source": [
    "### 02) Python program to find N largest and smallest elements from the list"
   ]
  },
  {
   "cell_type": "code",
   "execution_count": 25,
   "metadata": {},
   "outputs": [
    {
     "name": "stdout",
     "output_type": "stream",
     "text": [
      "N largest elements: [6, 7, 8]\n",
      "N smallest elements: [1, 2, 3]\n"
     ]
    }
   ],
   "source": [
    "my_list = [5, 2, 8, 1, 6, 3, 7, 4]\n",
    "\n",
    "N = 3\n",
    "sorted_list = sorted(my_list)\n",
    "\n",
    "N_largest = sorted_list[-N:]\n",
    "N_smallest = sorted_list[:N]\n",
    "\n",
    "print(\"N largest elements:\", N_largest)\n",
    "print(\"N smallest elements:\", N_smallest)\n"
   ]
  },
  {
   "cell_type": "markdown",
   "metadata": {},
   "source": [
    "### 03) WAP to print duplicates from a list of integers"
   ]
  },
  {
   "cell_type": "code",
   "execution_count": 29,
   "metadata": {},
   "outputs": [
    {
     "name": "stdout",
     "output_type": "stream",
     "text": [
      "Duplicates in the list: [2, 6]\n"
     ]
    }
   ],
   "source": [
    "my_list = [1, 2, 3, 2, 4, 5, 6, 6, 7, 8, 9]\n",
    "duplicates = set()\n",
    "\n",
    "for element in my_list:\n",
    "    if my_list.count(element) > 1:\n",
    "        duplicates.add(element)\n",
    "\n",
    "print(\"Duplicates in the list:\", list(duplicates))\n"
   ]
  },
  {
   "cell_type": "code",
   "execution_count": null,
   "metadata": {},
   "outputs": [],
   "source": []
  }
 ],
 "metadata": {
  "kernelspec": {
   "display_name": "Python 3 (ipykernel)",
   "language": "python",
   "name": "python3"
  },
  "language_info": {
   "codemirror_mode": {
    "name": "ipython",
    "version": 3
   },
   "file_extension": ".py",
   "mimetype": "text/x-python",
   "name": "python",
   "nbconvert_exporter": "python",
   "pygments_lexer": "ipython3",
   "version": "3.11.4"
  }
 },
 "nbformat": 4,
 "nbformat_minor": 4
}
