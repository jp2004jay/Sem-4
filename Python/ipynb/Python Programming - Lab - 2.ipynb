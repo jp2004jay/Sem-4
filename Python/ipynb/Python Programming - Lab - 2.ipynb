{
 "cells": [
  {
   "cell_type": "markdown",
   "metadata": {},
   "source": [
    "\n",
    "<a href='https://www.darshan.ac.in/'> <img src='https://www.darshan.ac.in/Content/media/DU_Logo.svg' width=\"250\" height=\"300\"/></a>\n",
    "<pre>\n",
    "<center><b><h1>Python Programming - 2101CS405</b></center>\n",
    "<center><b><h1>Lab - 2</b></center>    \n",
    "<pre>"
   ]
  },
  {
   "cell_type": "markdown",
   "metadata": {},
   "source": [
    "# if..else.."
   ]
  },
  {
   "cell_type": "markdown",
   "metadata": {},
   "source": [
    "### Get Input From User"
   ]
  },
  {
   "cell_type": "code",
   "execution_count": 14,
   "metadata": {},
   "outputs": [
    {
     "name": "stdin",
     "output_type": "stream",
     "text": [
      "Enter number:  32\n"
     ]
    }
   ],
   "source": [
    "number = int(input(\"Enter number: \"));"
   ]
  },
  {
   "cell_type": "markdown",
   "metadata": {},
   "source": [
    "### 01) WAP to check whether the given number is positive or negative."
   ]
  },
  {
   "cell_type": "code",
   "execution_count": 15,
   "metadata": {},
   "outputs": [
    {
     "name": "stdout",
     "output_type": "stream",
     "text": [
      "Number is Positive\n"
     ]
    }
   ],
   "source": [
    "if(number<0):\n",
    "    print(\"Number is Negitive\");\n",
    "elif(number==0):\n",
    "    print(\"ZERO\");\n",
    "else:\n",
    "    print(\"Number is Positive\");"
   ]
  },
  {
   "cell_type": "markdown",
   "metadata": {},
   "source": [
    "### 02) WAP to check whether the given number is odd or even"
   ]
  },
  {
   "cell_type": "code",
   "execution_count": 16,
   "metadata": {},
   "outputs": [
    {
     "name": "stdout",
     "output_type": "stream",
     "text": [
      "Number is even\n"
     ]
    }
   ],
   "source": [
    "if(number%2 == 0):\n",
    "    print(\"Number is even\");\n",
    "else:\n",
    "    print(\"Number is odd\");"
   ]
  },
  {
   "cell_type": "markdown",
   "metadata": {},
   "source": [
    "### 03) WAP to find out largest number from given two numbers using simple if and ternary operator."
   ]
  },
  {
   "cell_type": "code",
   "execution_count": 18,
   "metadata": {},
   "outputs": [
    {
     "name": "stdin",
     "output_type": "stream",
     "text": [
      "Enter a:  2\n",
      "Enter b:  5\n"
     ]
    },
    {
     "name": "stdout",
     "output_type": "stream",
     "text": [
      "\n",
      "SIMPLE IF\n",
      "B is largest  5\n",
      "\n",
      "TERNARY\n",
      "B is largest  5\n"
     ]
    }
   ],
   "source": [
    "a = int(input(\"Enter a: \"));\n",
    "b = int(input(\"Enter b: \"));\n",
    "\n",
    "print(\"\\nSIMPLE IF\");\n",
    "if(a>b):\n",
    "    print(\"A is largest \", a);\n",
    "else:\n",
    "    print(\"B is largest \", b);\n",
    "\n",
    "print(\"\\nTERNARY\");\n",
    "print(\"A is largest \", a) if a>b else print(\"B is largest \",b);"
   ]
  },
  {
   "cell_type": "markdown",
   "metadata": {},
   "source": [
    "### 04) WAP to find out largest number from given three numbers."
   ]
  },
  {
   "cell_type": "code",
   "execution_count": 21,
   "metadata": {},
   "outputs": [
    {
     "name": "stdin",
     "output_type": "stream",
     "text": [
      "Enter a:  1\n",
      "Enter b:  4\n",
      "Enter c:  2\n"
     ]
    },
    {
     "name": "stdout",
     "output_type": "stream",
     "text": [
      "B is largest  4\n"
     ]
    }
   ],
   "source": [
    "a = int(input(\"Enter a: \"));\n",
    "b = int(input(\"Enter b: \"));\n",
    "c = int(input(\"Enter c: \"));\n",
    "\n",
    "print(\"A is largest \", a) if a>c else print(\"C is largest \", c) if a>b else print(\"B is largest \", b) if (b>c) else print(\"C is largest \", c);"
   ]
  },
  {
   "cell_type": "markdown",
   "metadata": {},
   "source": [
    "### 05) WAP to check whether the given year is leap year or not.\n",
    "[If a year can be divisible by 4 but not divisible by 100 then it is leap year but if it is divisible by 400 then it is leap year]"
   ]
  },
  {
   "cell_type": "code",
   "execution_count": 32,
   "metadata": {},
   "outputs": [
    {
     "name": "stdin",
     "output_type": "stream",
     "text": [
      "Enter year:  2004\n"
     ]
    },
    {
     "name": "stdout",
     "output_type": "stream",
     "text": [
      "2004 is leap year\n"
     ]
    }
   ],
   "source": [
    "year = int(input(\"Enter year: \"))\n",
    "\n",
    "if(year%4==0):\n",
    "    if(year%100 != 0):\n",
    "        print(year, \"is leap year\")\n",
    "    elif(year%400 == 0):\n",
    "        print(year, \"is leap year\")\n",
    "    else:\n",
    "        print(year, \"is not leap year\")\n",
    "else:\n",
    "    print(year, \"is not leap year\")"
   ]
  },
  {
   "cell_type": "markdown",
   "metadata": {},
   "source": [
    "### 06) WAP in python to display the name of the day according to the number given by the user"
   ]
  },
  {
   "cell_type": "code",
   "execution_count": 35,
   "metadata": {},
   "outputs": [
    {
     "name": "stdin",
     "output_type": "stream",
     "text": [
      "Enter day number:  6\n"
     ]
    },
    {
     "name": "stdout",
     "output_type": "stream",
     "text": [
      "Friday\n"
     ]
    }
   ],
   "source": [
    "day = int(input(\"Enter day number: \"))\n",
    "\n",
    "match day:\n",
    "    case 1:\n",
    "        print(\"Sunday\")\n",
    "    case 2:\n",
    "        print(\"Monday\")\n",
    "    case 3:\n",
    "        print(\"Tuesday\")\n",
    "    case 4:\n",
    "        print(\"Wednesday\")\n",
    "    case 5:\n",
    "        print(\"Thursday\")\n",
    "    case 6:\n",
    "        print(\"Friday\")\n",
    "    case 7:\n",
    "        print(\"Saturday\")\n",
    "    case default:\n",
    "        print(\"INVALID\")\n",
    "        "
   ]
  },
  {
   "cell_type": "markdown",
   "metadata": {},
   "source": [
    "### 07) WAP to implement simple calculator which performs (add,sub,mul,div) of two no. based on user input."
   ]
  },
  {
   "cell_type": "code",
   "execution_count": 45,
   "metadata": {},
   "outputs": [
    {
     "name": "stdin",
     "output_type": "stream",
     "text": [
      "Enter a:  5\n",
      "Enter b:  2\n"
     ]
    },
    {
     "name": "stdout",
     "output_type": "stream",
     "text": [
      "Enter +\n",
      "Enter -\n",
      "Enter *\n",
      "Enter /\n"
     ]
    },
    {
     "name": "stdin",
     "output_type": "stream",
     "text": [
      " +\n"
     ]
    },
    {
     "name": "stdout",
     "output_type": "stream",
     "text": [
      "Answer is:  7\n"
     ]
    }
   ],
   "source": [
    "a = int(input(\"Enter a: \"))\n",
    "b = int(input(\"Enter b: \"))\n",
    "ans = 0\n",
    "\n",
    "print(\"Enter +\", \"Enter -\", \"Enter *\", \"Enter /\", sep=\"\\n\")\n",
    "condition = input()\n",
    "\n",
    "match condition:\n",
    "    case '+':\n",
    "        ans = a + b\n",
    "    case '-':\n",
    "        ans = a - b\n",
    "    case '*':\n",
    "        ans = a * b\n",
    "    case '/':\n",
    "        if(b == 0):\n",
    "            print(\"Can't divided by 0\")\n",
    "        else:\n",
    "            ans = a / b\n",
    "    case default:\n",
    "        print(\"Invalid Input\")\n",
    "\n",
    "print(\"Answer is: \", ans);"
   ]
  },
  {
   "cell_type": "markdown",
   "metadata": {},
   "source": [
    "### 08) WAP to calculate electricity bill based on following criteria. Which takes the unit from the user.\n",
    "a. First 1 to 50 units – Rs. 2.60/unit</br>\n",
    "b. Next 50 to 100 units – Rs. 3.25/unit</br>\n",
    "c. Next 100 to 200 units – Rs. 5.26/unit</br>\n",
    "d. above 200 units – Rs. 8.45/unit"
   ]
  },
  {
   "cell_type": "code",
   "execution_count": 48,
   "metadata": {},
   "outputs": [
    {
     "name": "stdin",
     "output_type": "stream",
     "text": [
      "Enter units:  234\n"
     ]
    },
    {
     "name": "stdout",
     "output_type": "stream",
     "text": [
      "Bill is:  1105.8\n"
     ]
    }
   ],
   "source": [
    "unit = int(input(\"Enter units: \"));\n",
    "bill = 0\n",
    "\n",
    "if(unit<=50):\n",
    "    bill = unit*2.60\n",
    "elif(unit>50 and unit<=100):\n",
    "    bill = (50*2.60) + (unit-50)*3.25\n",
    "elif(unit>100 and unit<=200):\n",
    "    bill = (50*2.60) + (50*3.25) + (unit-100)*5.260\n",
    "else:\n",
    "    bill = (50*2.60) + (50*3.25) + (100*5.26) + (unit-200)*8.45\n",
    "\n",
    "print(\"Bill is: \", bill);"
   ]
  },
  {
   "cell_type": "markdown",
   "metadata": {},
   "source": [
    "### 01) WAP to read marks of five subjects. Calculate percentage and print class accordingly. \n",
    "Fail below 35 </br>\n",
    "Pass Class between 35 to 45 </br>\n",
    "Second Class</br>\n",
    "between 45 to 60</br>\n",
    "First Class between 60 to 70</br> \n",
    "Distinction if more than 70"
   ]
  },
  {
   "cell_type": "code",
   "execution_count": 53,
   "metadata": {},
   "outputs": [
    {
     "name": "stdin",
     "output_type": "stream",
     "text": [
      "Enter marks of sub1:  32\n",
      "Enter marks of sub2:  25\n",
      "Enter marks of sub3:  13\n",
      "Enter marks of sub4:  8\n",
      "Enter marks of sub5:  6\n"
     ]
    },
    {
     "name": "stdout",
     "output_type": "stream",
     "text": [
      "Fail 16.8\n"
     ]
    }
   ],
   "source": [
    "sub1 = int(input(\"Enter marks of sub1: \"))\n",
    "sub2 = int(input(\"Enter marks of sub2: \"))\n",
    "sub3 = int(input(\"Enter marks of sub3: \"))\n",
    "sub4 = int(input(\"Enter marks of sub4: \"))\n",
    "sub5 = int(input(\"Enter marks of sub5: \"))\n",
    "\n",
    "persentage = (sub1+sub2+sub3+sub4+sub5)/5\n",
    "\n",
    "if(persentage < 35):\n",
    "    print(\"Fail\", persentage)\n",
    "elif(persentage>=35 and persentage<45):\n",
    "    print(\"Pass Class\", persentage)\n",
    "elif(persentage>=45 and persentage<60):\n",
    "    print(\"Second Class\", persentage);\n",
    "elif(persentage>=60 and persentage<70):\n",
    "    print(\"First Class\", persentage);\n",
    "else:\n",
    "    print(\"Distinction\",persentage);"
   ]
  },
  {
   "cell_type": "markdown",
   "metadata": {},
   "source": [
    "### 02) WAP to find out the Maximum and Minimum number from given 4 numbers."
   ]
  },
  {
   "cell_type": "code",
   "execution_count": 57,
   "metadata": {},
   "outputs": [
    {
     "name": "stdin",
     "output_type": "stream",
     "text": [
      "Enter a:  5\n",
      "Enter b:  8\n",
      "Enter c:  42\n",
      "Enter d:  3\n"
     ]
    },
    {
     "name": "stdout",
     "output_type": "stream",
     "text": [
      "\n",
      "Max: 42\n",
      "Min: 3\n"
     ]
    }
   ],
   "source": [
    "a = int(input(\"Enter a: \"))\n",
    "b = int(input(\"Enter b: \"))\n",
    "c = int(input(\"Enter c: \"))\n",
    "d = int(input(\"Enter d: \"))\n",
    "\n",
    "print(\"\\nMax:\",max(a, b ,c, d));\n",
    "print(\"Min:\",min(a, b, c, d));"
   ]
  },
  {
   "cell_type": "markdown",
   "metadata": {},
   "source": [
    "### 03) WAP to input an integer number and check the last digit of number is even or odd."
   ]
  },
  {
   "cell_type": "code",
   "execution_count": 62,
   "metadata": {},
   "outputs": [
    {
     "name": "stdin",
     "output_type": "stream",
     "text": [
      "Enter number:  50\n"
     ]
    },
    {
     "name": "stdout",
     "output_type": "stream",
     "text": [
      "Last digit is Even\n"
     ]
    }
   ],
   "source": [
    "number = int(input(\"Enter number: \"));\n",
    "\n",
    "if((number%10)%2 == 0):\n",
    "    print(\"Last digit is Even\");\n",
    "else:\n",
    "    print(\"Last digit is Odd\");"
   ]
  },
  {
   "cell_type": "markdown",
   "metadata": {},
   "source": [
    "### 04) WAP to determine the roots of the equation ax2+bx+c=0."
   ]
  },
  {
   "cell_type": "code",
   "execution_count": 76,
   "metadata": {},
   "outputs": [
    {
     "name": "stdin",
     "output_type": "stream",
     "text": [
      "Enter a:  2\n",
      "Enter b:  3\n",
      "Enter c:  6\n"
     ]
    },
    {
     "name": "stdout",
     "output_type": "stream",
     "text": [
      "X1:  -0.75  +  1.5612494995995996 i\n",
      "X2:  -0.75  -  1.5612494995995996 i\n"
     ]
    }
   ],
   "source": [
    "import math\n",
    "\n",
    "a = int(input(\"Enter a: \"))\n",
    "b = int(input(\"Enter b: \"))\n",
    "c = int(input(\"Enter c: \"))\n",
    "\n",
    "temp = b*b - 4*a*c;\n",
    "\n",
    "if(temp<0):\n",
    "    temp = -temp;\n",
    "    underRootD = math.sqrt(temp);\n",
    "    print(\"X1: \", -b/(2*a) ,\" + \", underRootD/(2*a),\"i\")\n",
    "    print(\"X2: \", -b/(2*a) ,\" - \", underRootD/(2*a),\"i\")\n",
    "else:\n",
    "    underRootD = math.sqrt(temp);\n",
    "    x1 = (-b + underRootD) / (2*a)\n",
    "    x2 = (-b - underRootD) / (2*a)\n",
    "    print(\"X1: \", x1);\n",
    "    print(\"X2: \", x2);"
   ]
  },
  {
   "cell_type": "code",
   "execution_count": null,
   "metadata": {},
   "outputs": [],
   "source": []
  }
 ],
 "metadata": {
  "kernelspec": {
   "display_name": "Python 3 (ipykernel)",
   "language": "python",
   "name": "python3"
  },
  "language_info": {
   "codemirror_mode": {
    "name": "ipython",
    "version": 3
   },
   "file_extension": ".py",
   "mimetype": "text/x-python",
   "name": "python",
   "nbconvert_exporter": "python",
   "pygments_lexer": "ipython3",
   "version": "3.11.4"
  }
 },
 "nbformat": 4,
 "nbformat_minor": 4
}
